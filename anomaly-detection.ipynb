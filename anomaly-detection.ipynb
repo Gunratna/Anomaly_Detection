{
 "cells": [
  {
   "cell_type": "code",
   "execution_count": 1,
   "id": "22d7c8a5",
   "metadata": {
    "_cell_guid": "b1076dfc-b9ad-4769-8c92-a6c4dae69d19",
    "_uuid": "8f2839f25d086af736a60e9eeb907d3b93b6e0e5",
    "execution": {
     "iopub.execute_input": "2021-09-28T11:21:18.201933Z",
     "iopub.status.busy": "2021-09-28T11:21:18.201258Z",
     "iopub.status.idle": "2021-09-28T11:21:18.207768Z",
     "shell.execute_reply": "2021-09-28T11:21:18.207074Z",
     "shell.execute_reply.started": "2021-09-28T11:09:23.742198Z"
    },
    "papermill": {
     "duration": 0.04084,
     "end_time": "2021-09-28T11:21:18.207928",
     "exception": false,
     "start_time": "2021-09-28T11:21:18.167088",
     "status": "completed"
    },
    "tags": []
   },
   "outputs": [
    {
     "name": "stdout",
     "output_type": "stream",
     "text": [
      "/kaggle/input/anomaly-detection/Submission.csv\n",
      "/kaggle/input/anomaly-detection/train.csv\n",
      "/kaggle/input/anomaly-detection/test.csv\n"
     ]
    }
   ],
   "source": [
    "# This Python 3 environment comes with many helpful analytics libraries installed\n",
    "# It is defined by the kaggle/python Docker image: https://github.com/kaggle/docker-python\n",
    "# For example, here's several helpful packages to load\n",
    "\n",
    "import numpy as np # linear algebra\n",
    "import pandas as pd # data processing, CSV file I/O (e.g. pd.read_csv)\n",
    "\n",
    "# Input data files are available in the read-only \"../input/\" directory\n",
    "# For example, running this (by clicking run or pressing Shift+Enter) will list all files under the input directory\n",
    "\n",
    "import os\n",
    "for dirname, _, filenames in os.walk('/kaggle/input'):\n",
    "    for filename in filenames:\n",
    "        print(os.path.join(dirname, filename))\n",
    "\n",
    "# You can write up to 20GB to the current directory (/kaggle/working/) that gets preserved as output when you create a version using \"Save & Run All\" \n",
    "# You can also write temporary files to /kaggle/temp/, but they won't be saved outside of the current session"
   ]
  },
  {
   "cell_type": "code",
   "execution_count": 2,
   "id": "15aae11d",
   "metadata": {
    "execution": {
     "iopub.execute_input": "2021-09-28T11:21:18.260933Z",
     "iopub.status.busy": "2021-09-28T11:21:18.260322Z",
     "iopub.status.idle": "2021-09-28T11:21:19.615966Z",
     "shell.execute_reply": "2021-09-28T11:21:19.615431Z",
     "shell.execute_reply.started": "2021-09-28T11:12:35.974050Z"
    },
    "papermill": {
     "duration": 1.384628,
     "end_time": "2021-09-28T11:21:19.616108",
     "exception": false,
     "start_time": "2021-09-28T11:21:18.231480",
     "status": "completed"
    },
    "tags": []
   },
   "outputs": [],
   "source": [
    "from sklearn.neighbors import LocalOutlierFactor\n",
    "from sklearn.svm import OneClassSVM\n",
    "import seaborn as sns\n",
    "import matplotlib.pyplot as plt\n",
    "%matplotlib inline\n",
    "from sklearn.datasets import make_blobs\n",
    "import xgboost as xgb\n",
    "from xgboost import XGBClassifier\n",
    "from sklearn.ensemble import IsolationForest\n",
    "from sklearn.metrics import accuracy_score,confusion_matrix,classification_report"
   ]
  },
  {
   "cell_type": "code",
   "execution_count": 3,
   "id": "459d50d6",
   "metadata": {
    "execution": {
     "iopub.execute_input": "2021-09-28T11:21:19.668779Z",
     "iopub.status.busy": "2021-09-28T11:21:19.668200Z",
     "iopub.status.idle": "2021-09-28T11:21:19.698939Z",
     "shell.execute_reply": "2021-09-28T11:21:19.698305Z",
     "shell.execute_reply.started": "2021-09-28T11:09:23.769704Z"
    },
    "papermill": {
     "duration": 0.058791,
     "end_time": "2021-09-28T11:21:19.699072",
     "exception": false,
     "start_time": "2021-09-28T11:21:19.640281",
     "status": "completed"
    },
    "tags": []
   },
   "outputs": [],
   "source": [
    "df_train=pd.read_csv('/kaggle/input/anomaly-detection/train.csv')"
   ]
  },
  {
   "cell_type": "code",
   "execution_count": 4,
   "id": "052e748f",
   "metadata": {
    "execution": {
     "iopub.execute_input": "2021-09-28T11:21:19.754629Z",
     "iopub.status.busy": "2021-09-28T11:21:19.754002Z",
     "iopub.status.idle": "2021-09-28T11:21:19.768339Z",
     "shell.execute_reply": "2021-09-28T11:21:19.768778Z",
     "shell.execute_reply.started": "2021-09-28T11:09:23.813942Z"
    },
    "papermill": {
     "duration": 0.047028,
     "end_time": "2021-09-28T11:21:19.768945",
     "exception": false,
     "start_time": "2021-09-28T11:21:19.721917",
     "status": "completed"
    },
    "tags": []
   },
   "outputs": [
    {
     "data": {
      "text/html": [
       "<div>\n",
       "<style scoped>\n",
       "    .dataframe tbody tr th:only-of-type {\n",
       "        vertical-align: middle;\n",
       "    }\n",
       "\n",
       "    .dataframe tbody tr th {\n",
       "        vertical-align: top;\n",
       "    }\n",
       "\n",
       "    .dataframe thead th {\n",
       "        text-align: right;\n",
       "    }\n",
       "</style>\n",
       "<table border=\"1\" class=\"dataframe\">\n",
       "  <thead>\n",
       "    <tr style=\"text-align: right;\">\n",
       "      <th></th>\n",
       "      <th>timestamp</th>\n",
       "      <th>value</th>\n",
       "      <th>is_anomaly</th>\n",
       "      <th>predicted</th>\n",
       "    </tr>\n",
       "  </thead>\n",
       "  <tbody>\n",
       "    <tr>\n",
       "      <th>0</th>\n",
       "      <td>1425008573</td>\n",
       "      <td>42</td>\n",
       "      <td>False</td>\n",
       "      <td>44.072500</td>\n",
       "    </tr>\n",
       "    <tr>\n",
       "      <th>1</th>\n",
       "      <td>1425008873</td>\n",
       "      <td>41</td>\n",
       "      <td>False</td>\n",
       "      <td>50.709390</td>\n",
       "    </tr>\n",
       "    <tr>\n",
       "      <th>2</th>\n",
       "      <td>1425009173</td>\n",
       "      <td>41</td>\n",
       "      <td>False</td>\n",
       "      <td>81.405120</td>\n",
       "    </tr>\n",
       "    <tr>\n",
       "      <th>3</th>\n",
       "      <td>1425009473</td>\n",
       "      <td>61</td>\n",
       "      <td>False</td>\n",
       "      <td>39.950367</td>\n",
       "    </tr>\n",
       "    <tr>\n",
       "      <th>4</th>\n",
       "      <td>1425009773</td>\n",
       "      <td>44</td>\n",
       "      <td>False</td>\n",
       "      <td>35.350160</td>\n",
       "    </tr>\n",
       "  </tbody>\n",
       "</table>\n",
       "</div>"
      ],
      "text/plain": [
       "    timestamp  value  is_anomaly  predicted\n",
       "0  1425008573     42       False  44.072500\n",
       "1  1425008873     41       False  50.709390\n",
       "2  1425009173     41       False  81.405120\n",
       "3  1425009473     61       False  39.950367\n",
       "4  1425009773     44       False  35.350160"
      ]
     },
     "execution_count": 4,
     "metadata": {},
     "output_type": "execute_result"
    }
   ],
   "source": [
    "df_train.head()"
   ]
  },
  {
   "cell_type": "code",
   "execution_count": 5,
   "id": "88d78421",
   "metadata": {
    "execution": {
     "iopub.execute_input": "2021-09-28T11:21:19.823291Z",
     "iopub.status.busy": "2021-09-28T11:21:19.821581Z",
     "iopub.status.idle": "2021-09-28T11:21:19.826355Z",
     "shell.execute_reply": "2021-09-28T11:21:19.827142Z",
     "shell.execute_reply.started": "2021-09-28T11:09:23.829687Z"
    },
    "papermill": {
     "duration": 0.033752,
     "end_time": "2021-09-28T11:21:19.827369",
     "exception": false,
     "start_time": "2021-09-28T11:21:19.793617",
     "status": "completed"
    },
    "tags": []
   },
   "outputs": [
    {
     "name": "stdout",
     "output_type": "stream",
     "text": [
      "timestamp     0\n",
      "value         0\n",
      "is_anomaly    0\n",
      "predicted     0\n",
      "dtype: int64\n"
     ]
    }
   ],
   "source": [
    "print(df_train.isnull().sum())"
   ]
  },
  {
   "cell_type": "code",
   "execution_count": 6,
   "id": "b3f5d5a1",
   "metadata": {
    "execution": {
     "iopub.execute_input": "2021-09-28T11:21:19.905455Z",
     "iopub.status.busy": "2021-09-28T11:21:19.901203Z",
     "iopub.status.idle": "2021-09-28T11:21:19.908176Z",
     "shell.execute_reply": "2021-09-28T11:21:19.907475Z",
     "shell.execute_reply.started": "2021-09-28T11:09:23.841092Z"
    },
    "papermill": {
     "duration": 0.056623,
     "end_time": "2021-09-28T11:21:19.908360",
     "exception": false,
     "start_time": "2021-09-28T11:21:19.851737",
     "status": "completed"
    },
    "tags": []
   },
   "outputs": [],
   "source": [
    "df_train['is_anomaly']=df_train['is_anomaly'].replace(False,0).replace(True,1)"
   ]
  },
  {
   "cell_type": "markdown",
   "id": "436d0fde",
   "metadata": {
    "papermill": {
     "duration": 0.025446,
     "end_time": "2021-09-28T11:21:19.966157",
     "exception": false,
     "start_time": "2021-09-28T11:21:19.940711",
     "status": "completed"
    },
    "tags": []
   },
   "source": [
    "Replacing all the false values ie if there are no anomaly as \"0\" and if there are anomaly ie true as replaced with \"1\""
   ]
  },
  {
   "cell_type": "code",
   "execution_count": 7,
   "id": "f172ab8d",
   "metadata": {
    "execution": {
     "iopub.execute_input": "2021-09-28T11:21:20.018503Z",
     "iopub.status.busy": "2021-09-28T11:21:20.017890Z",
     "iopub.status.idle": "2021-09-28T11:21:20.024008Z",
     "shell.execute_reply": "2021-09-28T11:21:20.024695Z",
     "shell.execute_reply.started": "2021-09-28T11:09:23.868866Z"
    },
    "papermill": {
     "duration": 0.033096,
     "end_time": "2021-09-28T11:21:20.024926",
     "exception": false,
     "start_time": "2021-09-28T11:21:19.991830",
     "status": "completed"
    },
    "tags": []
   },
   "outputs": [
    {
     "name": "stdout",
     "output_type": "stream",
     "text": [
      "    timestamp  value  is_anomaly  predicted\n",
      "0  1425008573     42           0  44.072500\n",
      "1  1425008873     41           0  50.709390\n",
      "2  1425009173     41           0  81.405120\n",
      "3  1425009473     61           0  39.950367\n",
      "4  1425009773     44           0  35.350160\n"
     ]
    }
   ],
   "source": [
    "print(df_train.head())"
   ]
  },
  {
   "cell_type": "code",
   "execution_count": 8,
   "id": "e750c221",
   "metadata": {
    "execution": {
     "iopub.execute_input": "2021-09-28T11:21:20.076690Z",
     "iopub.status.busy": "2021-09-28T11:21:20.076113Z",
     "iopub.status.idle": "2021-09-28T11:21:20.101851Z",
     "shell.execute_reply": "2021-09-28T11:21:20.102242Z",
     "shell.execute_reply.started": "2021-09-28T11:09:23.877673Z"
    },
    "papermill": {
     "duration": 0.052378,
     "end_time": "2021-09-28T11:21:20.102422",
     "exception": false,
     "start_time": "2021-09-28T11:21:20.050044",
     "status": "completed"
    },
    "tags": []
   },
   "outputs": [
    {
     "name": "stdout",
     "output_type": "stream",
     "text": [
      "          timestamp         value    is_anomaly     predicted\n",
      "count  1.583000e+04  15830.000000  15830.000000  15830.000000\n",
      "mean   1.427383e+09     85.572205      0.049021     71.870715\n",
      "std    1.370962e+06    321.760918      0.215918     92.450520\n",
      "min    1.425009e+09      0.000000      0.000000   -281.389070\n",
      "25%    1.426196e+09     29.000000      0.000000     32.919171\n",
      "50%    1.427383e+09     47.000000      0.000000     49.771124\n",
      "75%    1.428570e+09     76.000000      0.000000     75.948052\n",
      "max    1.429757e+09  13479.000000      1.000000   2716.127200\n"
     ]
    }
   ],
   "source": [
    "print(df_train.describe())"
   ]
  },
  {
   "cell_type": "code",
   "execution_count": 9,
   "id": "3b5df3bc",
   "metadata": {
    "execution": {
     "iopub.execute_input": "2021-09-28T11:21:20.156429Z",
     "iopub.status.busy": "2021-09-28T11:21:20.155865Z",
     "iopub.status.idle": "2021-09-28T11:21:20.163055Z",
     "shell.execute_reply": "2021-09-28T11:21:20.162567Z",
     "shell.execute_reply.started": "2021-09-28T11:09:23.908223Z"
    },
    "papermill": {
     "duration": 0.035607,
     "end_time": "2021-09-28T11:21:20.163182",
     "exception": false,
     "start_time": "2021-09-28T11:21:20.127575",
     "status": "completed"
    },
    "tags": []
   },
   "outputs": [],
   "source": [
    "corr=df_train.corr()"
   ]
  },
  {
   "cell_type": "code",
   "execution_count": 10,
   "id": "e72bee3f",
   "metadata": {
    "execution": {
     "iopub.execute_input": "2021-09-28T11:21:20.217832Z",
     "iopub.status.busy": "2021-09-28T11:21:20.216964Z",
     "iopub.status.idle": "2021-09-28T11:21:20.489625Z",
     "shell.execute_reply": "2021-09-28T11:21:20.489073Z",
     "shell.execute_reply.started": "2021-09-28T11:09:24.000939Z"
    },
    "papermill": {
     "duration": 0.301499,
     "end_time": "2021-09-28T11:21:20.489811",
     "exception": false,
     "start_time": "2021-09-28T11:21:20.188312",
     "status": "completed"
    },
    "tags": []
   },
   "outputs": [
    {
     "data": {
      "text/plain": [
       "<AxesSubplot:>"
      ]
     },
     "execution_count": 10,
     "metadata": {},
     "output_type": "execute_result"
    },
    {
     "data": {
      "image/png": "[encoded data removed]",
      "text/plain": [
       "<Figure size 432x288 with 2 Axes>"
      ]
     },
     "metadata": {
      "needs_background": "light"
     },
     "output_type": "display_data"
    }
   ],
   "source": [
    "sns.heatmap(corr, \n",
    "            xticklabels=df_train.corr().columns.values,\n",
    "            yticklabels=df_train.corr().columns.values,\n",
    "            cmap='Accent'\n",
    "           )"
   ]
  },
  {
   "cell_type": "markdown",
   "id": "aa4ce62f",
   "metadata": {
    "papermill": {
     "duration": 0.024925,
     "end_time": "2021-09-28T11:21:20.540802",
     "exception": false,
     "start_time": "2021-09-28T11:21:20.515877",
     "status": "completed"
    },
    "tags": []
   },
   "source": [
    "As seen in the heat map, whether the transactions is anomaly or not is highly dependant on Value.\n",
    "So , here we are considering only Value to make the prediction whether the transaction is an anomaly or not"
   ]
  },
  {
   "cell_type": "code",
   "execution_count": 11,
   "id": "3c8ca695",
   "metadata": {
    "execution": {
     "iopub.execute_input": "2021-09-28T11:21:20.597334Z",
     "iopub.status.busy": "2021-09-28T11:21:20.596324Z",
     "iopub.status.idle": "2021-09-28T11:21:20.601209Z",
     "shell.execute_reply": "2021-09-28T11:21:20.601929Z",
     "shell.execute_reply.started": "2021-09-28T11:09:24.319187Z"
    },
    "papermill": {
     "duration": 0.03669,
     "end_time": "2021-09-28T11:21:20.602162",
     "exception": false,
     "start_time": "2021-09-28T11:21:20.565472",
     "status": "completed"
    },
    "tags": []
   },
   "outputs": [
    {
     "name": "stdout",
     "output_type": "stream",
     "text": [
      "0        0\n",
      "1        0\n",
      "2        0\n",
      "3        0\n",
      "4        0\n",
      "        ..\n",
      "15825    0\n",
      "15826    0\n",
      "15827    0\n",
      "15828    0\n",
      "15829    0\n",
      "Name: is_anomaly, Length: 15830, dtype: int64\n"
     ]
    }
   ],
   "source": [
    "print(df_train['is_anomaly'])"
   ]
  },
  {
   "cell_type": "code",
   "execution_count": 12,
   "id": "238a4512",
   "metadata": {
    "execution": {
     "iopub.execute_input": "2021-09-28T11:21:20.662385Z",
     "iopub.status.busy": "2021-09-28T11:21:20.661013Z",
     "iopub.status.idle": "2021-09-28T11:21:21.090737Z",
     "shell.execute_reply": "2021-09-28T11:21:21.090228Z",
     "shell.execute_reply.started": "2021-09-28T11:09:24.326212Z"
    },
    "papermill": {
     "duration": 0.461773,
     "end_time": "2021-09-28T11:21:21.090871",
     "exception": false,
     "start_time": "2021-09-28T11:21:20.629098",
     "status": "completed"
    },
    "tags": []
   },
   "outputs": [
    {
     "data": {
      "text/plain": [
       "<AxesSubplot:xlabel='predicted', ylabel='value'>"
      ]
     },
     "execution_count": 12,
     "metadata": {},
     "output_type": "execute_result"
    },
    {
     "data": {
      "image/png": "[encoded data removed]",
      "text/plain": [
       "<Figure size 432x288 with 1 Axes>"
      ]
     },
     "metadata": {},
     "output_type": "display_data"
    }
   ],
   "source": [
    "sns.set_style(\"darkgrid\")\n",
    "sns.scatterplot(x=df_train['predicted'], y=df_train['value'])"
   ]
  },
  {
   "cell_type": "code",
   "execution_count": 13,
   "id": "730ea15f",
   "metadata": {
    "execution": {
     "iopub.execute_input": "2021-09-28T11:21:21.152164Z",
     "iopub.status.busy": "2021-09-28T11:21:21.149537Z",
     "iopub.status.idle": "2021-09-28T11:21:22.950909Z",
     "shell.execute_reply": "2021-09-28T11:21:22.950397Z",
     "shell.execute_reply.started": "2021-09-28T11:09:24.706621Z"
    },
    "papermill": {
     "duration": 1.833756,
     "end_time": "2021-09-28T11:21:22.951047",
     "exception": false,
     "start_time": "2021-09-28T11:21:21.117291",
     "status": "completed"
    },
    "tags": []
   },
   "outputs": [
    {
     "data": {
      "text/plain": [
       "<AxesSubplot:xlabel='predicted', ylabel='Count'>"
      ]
     },
     "execution_count": 13,
     "metadata": {},
     "output_type": "execute_result"
    },
    {
     "data": {
      "image/png": "[encoded data removed]",
      "text/plain": [
       "<Figure size 432x288 with 1 Axes>"
      ]
     },
     "metadata": {},
     "output_type": "display_data"
    }
   ],
   "source": [
    "sns.histplot(x='predicted',data=df_train)"
   ]
  },
  {
   "cell_type": "code",
   "execution_count": 14,
   "id": "add3390c",
   "metadata": {
    "execution": {
     "iopub.execute_input": "2021-09-28T11:21:23.035053Z",
     "iopub.status.busy": "2021-09-28T11:21:23.011317Z",
     "iopub.status.idle": "2021-09-28T11:21:29.964427Z",
     "shell.execute_reply": "2021-09-28T11:21:29.964840Z",
     "shell.execute_reply.started": "2021-09-28T11:09:26.918355Z"
    },
    "papermill": {
     "duration": 6.986574,
     "end_time": "2021-09-28T11:21:29.965003",
     "exception": false,
     "start_time": "2021-09-28T11:21:22.978429",
     "status": "completed"
    },
    "tags": []
   },
   "outputs": [
    {
     "data": {
      "text/plain": [
       "<AxesSubplot:xlabel='value', ylabel='Count'>"
      ]
     },
     "execution_count": 14,
     "metadata": {},
     "output_type": "execute_result"
    },
    {
     "data": {
      "image/png": "[encoded data removed]",
      "text/plain": [
       "<Figure size 432x288 with 1 Axes>"
      ]
     },
     "metadata": {},
     "output_type": "display_data"
    }
   ],
   "source": [
    "sns.histplot(x='value',data=df_train)"
   ]
  },
  {
   "cell_type": "code",
   "execution_count": 15,
   "id": "c8a55bae",
   "metadata": {
    "execution": {
     "iopub.execute_input": "2021-09-28T11:21:30.023816Z",
     "iopub.status.busy": "2021-09-28T11:21:30.023137Z",
     "iopub.status.idle": "2021-09-28T11:21:30.355339Z",
     "shell.execute_reply": "2021-09-28T11:21:30.355903Z",
     "shell.execute_reply.started": "2021-09-28T11:09:35.417901Z"
    },
    "papermill": {
     "duration": 0.363256,
     "end_time": "2021-09-28T11:21:30.356079",
     "exception": false,
     "start_time": "2021-09-28T11:21:29.992823",
     "status": "completed"
    },
    "tags": []
   },
   "outputs": [
    {
     "data": {
      "text/plain": [
       "<matplotlib.collections.PathCollection at 0x7f3480811a10>"
      ]
     },
     "execution_count": 15,
     "metadata": {},
     "output_type": "execute_result"
    },
    {
     "data": {
      "image/png": "[encoded data removed]",
      "text/plain": [
       "<Figure size 432x288 with 1 Axes>"
      ]
     },
     "metadata": {},
     "output_type": "display_data"
    }
   ],
   "source": [
    "plt.scatter(range(15830),df_train['value'])"
   ]
  },
  {
   "cell_type": "code",
   "execution_count": 16,
   "id": "658d12bd",
   "metadata": {
    "execution": {
     "iopub.execute_input": "2021-09-28T11:21:30.418797Z",
     "iopub.status.busy": "2021-09-28T11:21:30.418125Z",
     "iopub.status.idle": "2021-09-28T11:21:30.428228Z",
     "shell.execute_reply": "2021-09-28T11:21:30.428963Z",
     "shell.execute_reply.started": "2021-09-28T11:09:35.764447Z"
    },
    "papermill": {
     "duration": 0.043973,
     "end_time": "2021-09-28T11:21:30.429200",
     "exception": false,
     "start_time": "2021-09-28T11:21:30.385227",
     "status": "completed"
    },
    "tags": []
   },
   "outputs": [
    {
     "name": "stdout",
     "output_type": "stream",
     "text": [
      "Total No of Transactions: 15830\n",
      "No of Anomalous Transactions: 776\n",
      "No of Valid Transactions: 15054\n",
      "Percentage of Anomalous Transactions: 4.902\n",
      "Percentage of Valid Transactions: 95.098\n"
     ]
    }
   ],
   "source": [
    "#Determine the number of anomalous transactions in the dataset\n",
    "\n",
    "print(\"Total No of Transactions:\",len(df_train))\n",
    "\n",
    "Fraud = df_train[df_train['is_anomaly']==True]\n",
    "print(\"No of Anomalous Transactions:\",len(Fraud))\n",
    "\n",
    "Valid = df_train[df_train['is_anomaly']==False]\n",
    "print(\"No of Valid Transactions:\",len(Valid))\n",
    "\n",
    "outlier_fraction = len(Fraud)/float(len(df_train))\n",
    "valid_fraction = len(Valid)/float(len(df_train))\n",
    "print(\"Percentage of Anomalous Transactions:\",round((outlier_fraction*100),3))\n",
    "print(\"Percentage of Valid Transactions:\",round((valid_fraction*100),3))"
   ]
  },
  {
   "cell_type": "code",
   "execution_count": 17,
   "id": "c48799ae",
   "metadata": {
    "execution": {
     "iopub.execute_input": "2021-09-28T11:21:30.497642Z",
     "iopub.status.busy": "2021-09-28T11:21:30.496723Z",
     "iopub.status.idle": "2021-09-28T11:21:30.689472Z",
     "shell.execute_reply": "2021-09-28T11:21:30.688881Z",
     "shell.execute_reply.started": "2021-09-28T11:09:35.779868Z"
    },
    "papermill": {
     "duration": 0.229153,
     "end_time": "2021-09-28T11:21:30.689623",
     "exception": false,
     "start_time": "2021-09-28T11:21:30.460470",
     "status": "completed"
    },
    "tags": []
   },
   "outputs": [
    {
     "data": {
      "text/plain": [
       "<AxesSubplot:xlabel='is_anomaly', ylabel='count'>"
      ]
     },
     "execution_count": 17,
     "metadata": {},
     "output_type": "execute_result"
    },
    {
     "data": {
      "image/png": "[encoded data removed]",
      "text/plain": [
       "<Figure size 432x288 with 1 Axes>"
      ]
     },
     "metadata": {},
     "output_type": "display_data"
    }
   ],
   "source": [
    "sns.countplot(x='is_anomaly',data=df_train)"
   ]
  },
  {
   "cell_type": "code",
   "execution_count": 18,
   "id": "5b87fbe3",
   "metadata": {
    "execution": {
     "iopub.execute_input": "2021-09-28T11:21:30.752107Z",
     "iopub.status.busy": "2021-09-28T11:21:30.751229Z",
     "iopub.status.idle": "2021-09-28T11:21:30.758136Z",
     "shell.execute_reply": "2021-09-28T11:21:30.758582Z",
     "shell.execute_reply.started": "2021-09-28T11:09:35.952763Z"
    },
    "papermill": {
     "duration": 0.039703,
     "end_time": "2021-09-28T11:21:30.758764",
     "exception": false,
     "start_time": "2021-09-28T11:21:30.719061",
     "status": "completed"
    },
    "tags": []
   },
   "outputs": [
    {
     "data": {
      "text/plain": [
       "0    15054\n",
       "1      776\n",
       "Name: is_anomaly, dtype: int64"
      ]
     },
     "execution_count": 18,
     "metadata": {},
     "output_type": "execute_result"
    }
   ],
   "source": [
    "df_train['is_anomaly'].value_counts()"
   ]
  },
  {
   "cell_type": "markdown",
   "id": "64e33da4",
   "metadata": {
    "papermill": {
     "duration": 0.02999,
     "end_time": "2021-09-28T11:21:30.818944",
     "exception": false,
     "start_time": "2021-09-28T11:21:30.788954",
     "status": "completed"
    },
    "tags": []
   },
   "source": [
    "From the above plot we can see that the number of anomaly is very less. This is an imbalanced data set. But , this imbalance in the dataset is expected can be handled by the following algorithm itself."
   ]
  },
  {
   "cell_type": "code",
   "execution_count": 19,
   "id": "e0aeeb66",
   "metadata": {
    "execution": {
     "iopub.execute_input": "2021-09-28T11:21:30.888874Z",
     "iopub.status.busy": "2021-09-28T11:21:30.888234Z",
     "iopub.status.idle": "2021-09-28T11:21:30.891622Z",
     "shell.execute_reply": "2021-09-28T11:21:30.891113Z",
     "shell.execute_reply.started": "2021-09-28T11:09:35.963828Z"
    },
    "papermill": {
     "duration": 0.042242,
     "end_time": "2021-09-28T11:21:30.891761",
     "exception": false,
     "start_time": "2021-09-28T11:21:30.849519",
     "status": "completed"
    },
    "tags": []
   },
   "outputs": [
    {
     "name": "stdout",
     "output_type": "stream",
     "text": [
      "        timestamp  value  predicted\n",
      "0      1425008573     42  44.072500\n",
      "1      1425008873     41  50.709390\n",
      "2      1425009173     41  81.405120\n",
      "3      1425009473     61  39.950367\n",
      "4      1425009773     44  35.350160\n",
      "...           ...    ...        ...\n",
      "15825  1429756073     44  53.624115\n",
      "15826  1429756373     45  59.752296\n",
      "15827  1429756673     48  52.147630\n",
      "15828  1429756973     26  58.007545\n",
      "15829  1429757273     38  59.144700\n",
      "\n",
      "[15830 rows x 3 columns]\n"
     ]
    }
   ],
   "source": [
    "X_train = df_train.drop(columns=['is_anomaly'],inplace=False,axis=1)\n",
    "print(X_train)\n"
   ]
  },
  {
   "cell_type": "code",
   "execution_count": 20,
   "id": "26100539",
   "metadata": {
    "execution": {
     "iopub.execute_input": "2021-09-28T11:21:30.957628Z",
     "iopub.status.busy": "2021-09-28T11:21:30.957024Z",
     "iopub.status.idle": "2021-09-28T11:21:30.960425Z",
     "shell.execute_reply": "2021-09-28T11:21:30.960853Z",
     "shell.execute_reply.started": "2021-09-28T11:09:35.984705Z"
    },
    "papermill": {
     "duration": 0.03883,
     "end_time": "2021-09-28T11:21:30.961026",
     "exception": false,
     "start_time": "2021-09-28T11:21:30.922196",
     "status": "completed"
    },
    "tags": []
   },
   "outputs": [
    {
     "name": "stdout",
     "output_type": "stream",
     "text": [
      "0        0\n",
      "1        0\n",
      "2        0\n",
      "3        0\n",
      "4        0\n",
      "        ..\n",
      "15825    0\n",
      "15826    0\n",
      "15827    0\n",
      "15828    0\n",
      "15829    0\n",
      "Name: is_anomaly, Length: 15830, dtype: int64\n"
     ]
    }
   ],
   "source": [
    "y_train=df_train['is_anomaly']\n",
    "print(y_train)"
   ]
  },
  {
   "cell_type": "code",
   "execution_count": 21,
   "id": "003103e3",
   "metadata": {
    "execution": {
     "iopub.execute_input": "2021-09-28T11:21:31.027210Z",
     "iopub.status.busy": "2021-09-28T11:21:31.026527Z",
     "iopub.status.idle": "2021-09-28T11:21:31.030324Z",
     "shell.execute_reply": "2021-09-28T11:21:31.029515Z",
     "shell.execute_reply.started": "2021-09-28T11:09:36.002447Z"
    },
    "papermill": {
     "duration": 0.038494,
     "end_time": "2021-09-28T11:21:31.030501",
     "exception": false,
     "start_time": "2021-09-28T11:21:30.992007",
     "status": "completed"
    },
    "tags": []
   },
   "outputs": [
    {
     "name": "stdout",
     "output_type": "stream",
     "text": [
      "(15830, 3)\n",
      "(15830,)\n"
     ]
    }
   ],
   "source": [
    "print(X_train.shape)\n",
    "print(y_train.shape)"
   ]
  },
  {
   "cell_type": "code",
   "execution_count": 22,
   "id": "e4b758f3",
   "metadata": {
    "execution": {
     "iopub.execute_input": "2021-09-28T11:21:31.098524Z",
     "iopub.status.busy": "2021-09-28T11:21:31.097844Z",
     "iopub.status.idle": "2021-09-28T11:21:31.100910Z",
     "shell.execute_reply": "2021-09-28T11:21:31.101304Z",
     "shell.execute_reply.started": "2021-09-28T11:09:36.017525Z"
    },
    "papermill": {
     "duration": 0.03879,
     "end_time": "2021-09-28T11:21:31.101469",
     "exception": false,
     "start_time": "2021-09-28T11:21:31.062679",
     "status": "completed"
    },
    "tags": []
   },
   "outputs": [],
   "source": [
    "# Define a random state \n",
    "state = np.random.RandomState(42)\n",
    "X_outliers = state.uniform(low=0, high=1, size=(X_train.shape[0], X_train.shape[1]))"
   ]
  },
  {
   "cell_type": "code",
   "execution_count": 23,
   "id": "6efad833",
   "metadata": {
    "execution": {
     "iopub.execute_input": "2021-09-28T11:21:31.171768Z",
     "iopub.status.busy": "2021-09-28T11:21:31.170830Z",
     "iopub.status.idle": "2021-09-28T11:21:31.173887Z",
     "shell.execute_reply": "2021-09-28T11:21:31.173438Z",
     "shell.execute_reply.started": "2021-09-28T11:09:36.033248Z"
    },
    "papermill": {
     "duration": 0.040554,
     "end_time": "2021-09-28T11:21:31.174021",
     "exception": false,
     "start_time": "2021-09-28T11:21:31.133467",
     "status": "completed"
    },
    "tags": []
   },
   "outputs": [],
   "source": [
    "classifiers = {\n",
    "    \"Isolation Forest\":IsolationForest(n_estimators=100, max_samples=len(X_train), \n",
    "                                       contamination=outlier_fraction,random_state=state, verbose=0),\n",
    "    \"Local Outlier Factor\":LocalOutlierFactor(n_neighbors=20, algorithm='auto', \n",
    "                                              leaf_size=30, metric='minkowski',novelty=False,\n",
    "                                              p=2, metric_params=None, contamination=outlier_fraction),\n",
    "    \"Novelty Local Outlier Factor\":LocalOutlierFactor(n_neighbors=20, algorithm='auto', \n",
    "                                              leaf_size=30, metric='minkowski',novelty=True,\n",
    "                                              p=2, metric_params=None, contamination=outlier_fraction),\n",
    "    \"Support Vector Machine\":OneClassSVM(kernel='rbf', degree=3, gamma=0.1,nu=0.05, \n",
    "                                         max_iter=-1),\n",
    "    \"XGBClassifier\":XGBClassifier(learning_rate=1, n_estimators=1300,eta = 0.7, max_depth= 3,  objective= 'multi:softprob',  num_class= 3)\n",
    "}"
   ]
  },
  {
   "cell_type": "code",
   "execution_count": 24,
   "id": "90b8c212",
   "metadata": {
    "execution": {
     "iopub.execute_input": "2021-09-28T11:21:31.246193Z",
     "iopub.status.busy": "2021-09-28T11:21:31.245488Z",
     "iopub.status.idle": "2021-09-28T11:22:20.740506Z",
     "shell.execute_reply": "2021-09-28T11:22:20.740946Z",
     "shell.execute_reply.started": "2021-09-28T11:12:44.865556Z"
    },
    "papermill": {
     "duration": 49.53589,
     "end_time": "2021-09-28T11:22:20.741117",
     "exception": false,
     "start_time": "2021-09-28T11:21:31.205227",
     "status": "completed"
    },
    "tags": []
   },
   "outputs": [
    {
     "name": "stdout",
     "output_type": "stream",
     "text": [
      "Isolation Forest: 1026\n",
      "Accuracy Score :\n",
      "0.9351863550221099\n",
      "Classification Report :\n",
      "              precision    recall  f1-score   support\n",
      "\n",
      "           0       0.97      0.97      0.97     15054\n",
      "           1       0.34      0.34      0.34       776\n",
      "\n",
      "    accuracy                           0.94     15830\n",
      "   macro avg       0.65      0.65      0.65     15830\n",
      "weighted avg       0.94      0.94      0.94     15830\n",
      "\n",
      "Confusion Matrix:\n",
      "[[14541   513]\n",
      " [  513   263]]\n",
      "Local Outlier Factor: 1244\n",
      "Accuracy Score :\n",
      "0.9214150347441566\n",
      "Classification Report :\n",
      "              precision    recall  f1-score   support\n",
      "\n",
      "           0       0.96      0.96      0.96     15054\n",
      "           1       0.20      0.20      0.20       776\n",
      "\n",
      "    accuracy                           0.92     15830\n",
      "   macro avg       0.58      0.58      0.58     15830\n",
      "weighted avg       0.92      0.92      0.92     15830\n",
      "\n",
      "Confusion Matrix:\n",
      "[[14432   622]\n",
      " [  622   154]]\n",
      "Novelty Local Outlier Factor: 1139\n",
      "Accuracy Score :\n",
      "0.928048010107391\n",
      "Classification Report :\n",
      "              precision    recall  f1-score   support\n",
      "\n",
      "           0       0.96      0.97      0.96     15054\n",
      "           1       0.22      0.18      0.20       776\n",
      "\n",
      "    accuracy                           0.93     15830\n",
      "   macro avg       0.59      0.58      0.58     15830\n",
      "weighted avg       0.92      0.93      0.92     15830\n",
      "\n",
      "Confusion Matrix:\n",
      "[[14548   506]\n",
      " [  633   143]]\n",
      "Support Vector Machine: 12204\n",
      "Accuracy Score :\n",
      "0.22905874921036007\n",
      "Classification Report :\n",
      "              precision    recall  f1-score   support\n",
      "\n",
      "           0       0.95      0.20      0.33     15054\n",
      "           1       0.05      0.80      0.09       776\n",
      "\n",
      "    accuracy                           0.23     15830\n",
      "   macro avg       0.50      0.50      0.21     15830\n",
      "weighted avg       0.91      0.23      0.32     15830\n",
      "\n",
      "Confusion Matrix:\n",
      "[[ 3008 12046]\n",
      " [  158   618]]\n",
      "[11:22:10] WARNING: ../src/learner.cc:1095: Starting in XGBoost 1.3.0, the default evaluation metric used with the objective 'multi:softprob' was changed from 'merror' to 'mlogloss'. Explicitly set eval_metric if you'd like to restore the old behavior.\n"
     ]
    },
    {
     "name": "stderr",
     "output_type": "stream",
     "text": [
      "/opt/conda/lib/python3.7/site-packages/xgboost/sklearn.py:1146: UserWarning: The use of label encoder in XGBClassifier is deprecated and will be removed in a future release. To remove this warning, do the following: 1) Pass option use_label_encoder=False when constructing XGBClassifier object; and 2) Encode your labels (y) as integers starting with 0, i.e. 0, 1, 2, ..., [num_class - 1].\n",
      "  warnings.warn(label_encoder_deprecation_msg, UserWarning)\n"
     ]
    },
    {
     "name": "stdout",
     "output_type": "stream",
     "text": [
      "XGBClassifier: 776\n",
      "Accuracy Score :\n",
      "0.9509791535060013\n",
      "Classification Report :\n",
      "              precision    recall  f1-score   support\n",
      "\n",
      "           0       0.95      1.00      0.97     15054\n",
      "           1       0.00      0.00      0.00       776\n",
      "\n",
      "    accuracy                           0.95     15830\n",
      "   macro avg       0.48      0.50      0.49     15830\n",
      "weighted avg       0.90      0.95      0.93     15830\n",
      "\n",
      "Confusion Matrix:\n",
      "[[15054     0]\n",
      " [  776     0]]\n"
     ]
    },
    {
     "name": "stderr",
     "output_type": "stream",
     "text": [
      "/opt/conda/lib/python3.7/site-packages/sklearn/metrics/_classification.py:1221: UndefinedMetricWarning: Precision and F-score are ill-defined and being set to 0.0 in labels with no predicted samples. Use `zero_division` parameter to control this behavior.\n",
      "  _warn_prf(average, modifier, msg_start, len(result))\n"
     ]
    }
   ],
   "source": [
    "\n",
    "for i, (clf_name,clf) in enumerate(classifiers.items()):\n",
    "    #Fit the data and tag outliers\n",
    "    if clf_name == \"Local Outlier Factor\":\n",
    "        y_pred = clf.fit_predict(X_train)\n",
    "        scores_prediction = clf.negative_outlier_factor_\n",
    "    elif clf_name == \"Support Vector Machine\":\n",
    "        clf.fit(X_train)\n",
    "        y_pred = clf.predict(X_train)\n",
    "    elif clf_name == \"Novelty Local Outlier Factor\":\n",
    "        clf.fit(X_train)\n",
    "        y_pred = clf.predict(X_train)\n",
    "        scores_prediction = clf.negative_outlier_factor_  \n",
    "    elif clf_name == \"XGBClassifier\":\n",
    "        clf.fit(X_train,y_train)\n",
    "        y_pred = clf.predict(X_train)\n",
    "    else:    \n",
    "        clf.fit(X_train)\n",
    "        scores_prediction = clf.decision_function(X_train)\n",
    "        y_pred = clf.predict(X_train)\n",
    "    #Reshape the prediction values to 0 for Valid transactions , 1 for Fraud transactions\n",
    "    y_pred[y_pred == 1] = 0\n",
    "    y_pred[y_pred == -1] = 1\n",
    "    n_errors = (y_pred != y_train).sum()\n",
    "    # Run Classification Metrics\n",
    "    print(\"{}: {}\".format(clf_name,n_errors))\n",
    "    print(\"Accuracy Score :\")\n",
    "    print(accuracy_score(y_train,y_pred))\n",
    "    print(\"Classification Report :\")\n",
    "    print(classification_report(y_train,y_pred))\n",
    "    print(\"Confusion Matrix:\")\n",
    "    print(confusion_matrix(y_train, y_pred))"
   ]
  },
  {
   "cell_type": "markdown",
   "id": "e099688c",
   "metadata": {
    "papermill": {
     "duration": 0.031333,
     "end_time": "2021-09-28T11:22:20.804161",
     "exception": false,
     "start_time": "2021-09-28T11:22:20.772828",
     "status": "completed"
    },
    "tags": []
   },
   "source": [
    "Test data Analysis"
   ]
  },
  {
   "cell_type": "code",
   "execution_count": 25,
   "id": "55727f68",
   "metadata": {
    "execution": {
     "iopub.execute_input": "2021-09-28T11:22:20.875213Z",
     "iopub.status.busy": "2021-09-28T11:22:20.874634Z",
     "iopub.status.idle": "2021-09-28T11:22:20.888902Z",
     "shell.execute_reply": "2021-09-28T11:22:20.889304Z",
     "shell.execute_reply.started": "2021-09-28T11:14:30.584783Z"
    },
    "papermill": {
     "duration": 0.05311,
     "end_time": "2021-09-28T11:22:20.889478",
     "exception": false,
     "start_time": "2021-09-28T11:22:20.836368",
     "status": "completed"
    },
    "tags": []
   },
   "outputs": [],
   "source": [
    "df_test=pd.read_csv('/kaggle/input/anomaly-detection/test.csv')"
   ]
  },
  {
   "cell_type": "code",
   "execution_count": 26,
   "id": "38b07ca2",
   "metadata": {
    "execution": {
     "iopub.execute_input": "2021-09-28T11:22:20.957086Z",
     "iopub.status.busy": "2021-09-28T11:22:20.956538Z",
     "iopub.status.idle": "2021-09-28T11:22:20.965495Z",
     "shell.execute_reply": "2021-09-28T11:22:20.965919Z",
     "shell.execute_reply.started": "2021-09-28T11:14:32.192960Z"
    },
    "papermill": {
     "duration": 0.043825,
     "end_time": "2021-09-28T11:22:20.966075",
     "exception": false,
     "start_time": "2021-09-28T11:22:20.922250",
     "status": "completed"
    },
    "tags": []
   },
   "outputs": [
    {
     "data": {
      "text/html": [
       "<div>\n",
       "<style scoped>\n",
       "    .dataframe tbody tr th:only-of-type {\n",
       "        vertical-align: middle;\n",
       "    }\n",
       "\n",
       "    .dataframe tbody tr th {\n",
       "        vertical-align: top;\n",
       "    }\n",
       "\n",
       "    .dataframe thead th {\n",
       "        text-align: right;\n",
       "    }\n",
       "</style>\n",
       "<table border=\"1\" class=\"dataframe\">\n",
       "  <thead>\n",
       "    <tr style=\"text-align: right;\">\n",
       "      <th></th>\n",
       "      <th>timestamp</th>\n",
       "      <th>value</th>\n",
       "      <th>predicted</th>\n",
       "    </tr>\n",
       "  </thead>\n",
       "  <tbody>\n",
       "    <tr>\n",
       "      <th>0</th>\n",
       "      <td>1396332000</td>\n",
       "      <td>20.0</td>\n",
       "      <td>20.0</td>\n",
       "    </tr>\n",
       "    <tr>\n",
       "      <th>1</th>\n",
       "      <td>1396332300</td>\n",
       "      <td>20.0</td>\n",
       "      <td>20.0</td>\n",
       "    </tr>\n",
       "    <tr>\n",
       "      <th>2</th>\n",
       "      <td>1396332600</td>\n",
       "      <td>20.0</td>\n",
       "      <td>20.0</td>\n",
       "    </tr>\n",
       "    <tr>\n",
       "      <th>3</th>\n",
       "      <td>1396332900</td>\n",
       "      <td>20.0</td>\n",
       "      <td>20.0</td>\n",
       "    </tr>\n",
       "    <tr>\n",
       "      <th>4</th>\n",
       "      <td>1396333200</td>\n",
       "      <td>20.0</td>\n",
       "      <td>20.0</td>\n",
       "    </tr>\n",
       "  </tbody>\n",
       "</table>\n",
       "</div>"
      ],
      "text/plain": [
       "    timestamp  value  predicted\n",
       "0  1396332000   20.0       20.0\n",
       "1  1396332300   20.0       20.0\n",
       "2  1396332600   20.0       20.0\n",
       "3  1396332900   20.0       20.0\n",
       "4  1396333200   20.0       20.0"
      ]
     },
     "execution_count": 26,
     "metadata": {},
     "output_type": "execute_result"
    }
   ],
   "source": [
    "df_test.head()"
   ]
  },
  {
   "cell_type": "code",
   "execution_count": 27,
   "id": "c12e6783",
   "metadata": {
    "execution": {
     "iopub.execute_input": "2021-09-28T11:22:21.036806Z",
     "iopub.status.busy": "2021-09-28T11:22:21.036196Z",
     "iopub.status.idle": "2021-09-28T11:22:21.050168Z",
     "shell.execute_reply": "2021-09-28T11:22:21.049742Z",
     "shell.execute_reply.started": "2021-09-28T11:14:35.271537Z"
    },
    "papermill": {
     "duration": 0.051986,
     "end_time": "2021-09-28T11:22:21.050296",
     "exception": false,
     "start_time": "2021-09-28T11:22:20.998310",
     "status": "completed"
    },
    "tags": []
   },
   "outputs": [
    {
     "data": {
      "text/html": [
       "<div>\n",
       "<style scoped>\n",
       "    .dataframe tbody tr th:only-of-type {\n",
       "        vertical-align: middle;\n",
       "    }\n",
       "\n",
       "    .dataframe tbody tr th {\n",
       "        vertical-align: top;\n",
       "    }\n",
       "\n",
       "    .dataframe thead th {\n",
       "        text-align: right;\n",
       "    }\n",
       "</style>\n",
       "<table border=\"1\" class=\"dataframe\">\n",
       "  <thead>\n",
       "    <tr style=\"text-align: right;\">\n",
       "      <th></th>\n",
       "      <th>timestamp</th>\n",
       "      <th>value</th>\n",
       "      <th>predicted</th>\n",
       "    </tr>\n",
       "  </thead>\n",
       "  <tbody>\n",
       "    <tr>\n",
       "      <th>count</th>\n",
       "      <td>3.960000e+03</td>\n",
       "      <td>3960.000000</td>\n",
       "      <td>3960.000000</td>\n",
       "    </tr>\n",
       "    <tr>\n",
       "      <th>mean</th>\n",
       "      <td>1.396926e+09</td>\n",
       "      <td>42.909050</td>\n",
       "      <td>43.841335</td>\n",
       "    </tr>\n",
       "    <tr>\n",
       "      <th>std</th>\n",
       "      <td>3.429894e+05</td>\n",
       "      <td>28.040740</td>\n",
       "      <td>28.315249</td>\n",
       "    </tr>\n",
       "    <tr>\n",
       "      <th>min</th>\n",
       "      <td>1.396332e+09</td>\n",
       "      <td>20.000000</td>\n",
       "      <td>3.158210</td>\n",
       "    </tr>\n",
       "    <tr>\n",
       "      <th>25%</th>\n",
       "      <td>1.396629e+09</td>\n",
       "      <td>20.000000</td>\n",
       "      <td>20.037745</td>\n",
       "    </tr>\n",
       "    <tr>\n",
       "      <th>50%</th>\n",
       "      <td>1.396926e+09</td>\n",
       "      <td>20.480000</td>\n",
       "      <td>22.011872</td>\n",
       "    </tr>\n",
       "    <tr>\n",
       "      <th>75%</th>\n",
       "      <td>1.397223e+09</td>\n",
       "      <td>79.904000</td>\n",
       "      <td>79.077084</td>\n",
       "    </tr>\n",
       "    <tr>\n",
       "      <th>max</th>\n",
       "      <td>1.397520e+09</td>\n",
       "      <td>79.999969</td>\n",
       "      <td>114.857970</td>\n",
       "    </tr>\n",
       "  </tbody>\n",
       "</table>\n",
       "</div>"
      ],
      "text/plain": [
       "          timestamp        value    predicted\n",
       "count  3.960000e+03  3960.000000  3960.000000\n",
       "mean   1.396926e+09    42.909050    43.841335\n",
       "std    3.429894e+05    28.040740    28.315249\n",
       "min    1.396332e+09    20.000000     3.158210\n",
       "25%    1.396629e+09    20.000000    20.037745\n",
       "50%    1.396926e+09    20.480000    22.011872\n",
       "75%    1.397223e+09    79.904000    79.077084\n",
       "max    1.397520e+09    79.999969   114.857970"
      ]
     },
     "execution_count": 27,
     "metadata": {},
     "output_type": "execute_result"
    }
   ],
   "source": [
    "df_test.describe()"
   ]
  },
  {
   "cell_type": "code",
   "execution_count": 28,
   "id": "f8a2e77f",
   "metadata": {
    "execution": {
     "iopub.execute_input": "2021-09-28T11:22:21.118586Z",
     "iopub.status.busy": "2021-09-28T11:22:21.118051Z",
     "iopub.status.idle": "2021-09-28T11:22:21.124552Z",
     "shell.execute_reply": "2021-09-28T11:22:21.125013Z",
     "shell.execute_reply.started": "2021-09-28T11:14:39.501461Z"
    },
    "papermill": {
     "duration": 0.04219,
     "end_time": "2021-09-28T11:22:21.125163",
     "exception": false,
     "start_time": "2021-09-28T11:22:21.082973",
     "status": "completed"
    },
    "tags": []
   },
   "outputs": [
    {
     "name": "stdout",
     "output_type": "stream",
     "text": [
      "       timestamp     value  predicted\n",
      "0     1396332000  20.00000  20.000000\n",
      "1     1396332300  20.00000  20.000000\n",
      "2     1396332600  20.00000  20.000000\n",
      "3     1396332900  20.00000  20.000000\n",
      "4     1396333200  20.00000  20.000000\n",
      "...          ...       ...        ...\n",
      "3955  1397518500  20.00384  19.836240\n",
      "3956  1397518800  20.00384  19.207998\n",
      "3957  1397519100  20.00384  20.103437\n",
      "3958  1397519400  20.00384  19.346764\n",
      "3959  1397519700  20.00384  20.134947\n",
      "\n",
      "[3960 rows x 3 columns]\n"
     ]
    }
   ],
   "source": [
    "X_test = df_test\n",
    "print(X_test)\n"
   ]
  },
  {
   "cell_type": "code",
   "execution_count": 29,
   "id": "bd056683",
   "metadata": {
    "execution": {
     "iopub.execute_input": "2021-09-28T11:22:21.194555Z",
     "iopub.status.busy": "2021-09-28T11:22:21.194014Z",
     "iopub.status.idle": "2021-09-28T11:22:21.197983Z",
     "shell.execute_reply": "2021-09-28T11:22:21.198383Z",
     "shell.execute_reply.started": "2021-09-28T11:14:42.869172Z"
    },
    "papermill": {
     "duration": 0.040503,
     "end_time": "2021-09-28T11:22:21.198528",
     "exception": false,
     "start_time": "2021-09-28T11:22:21.158025",
     "status": "completed"
    },
    "tags": []
   },
   "outputs": [],
   "source": [
    "# Define a random state \n",
    "state = np.random.RandomState(42)\n",
    "X_outliers = state.uniform(low=0, high=1, size=(X_test.shape[0], X_test.shape[1]))"
   ]
  },
  {
   "cell_type": "code",
   "execution_count": 30,
   "id": "81931f72",
   "metadata": {
    "execution": {
     "iopub.execute_input": "2021-09-28T11:22:21.267318Z",
     "iopub.status.busy": "2021-09-28T11:22:21.266750Z",
     "iopub.status.idle": "2021-09-28T11:22:21.271142Z",
     "shell.execute_reply": "2021-09-28T11:22:21.270670Z",
     "shell.execute_reply.started": "2021-09-28T11:14:45.069323Z"
    },
    "papermill": {
     "duration": 0.039794,
     "end_time": "2021-09-28T11:22:21.271270",
     "exception": false,
     "start_time": "2021-09-28T11:22:21.231476",
     "status": "completed"
    },
    "tags": []
   },
   "outputs": [
    {
     "name": "stdout",
     "output_type": "stream",
     "text": [
      "(3960, 3)\n"
     ]
    }
   ],
   "source": [
    "print(X_test.shape)"
   ]
  },
  {
   "cell_type": "code",
   "execution_count": 31,
   "id": "8c811903",
   "metadata": {
    "execution": {
     "iopub.execute_input": "2021-09-28T11:22:21.343620Z",
     "iopub.status.busy": "2021-09-28T11:22:21.343024Z",
     "iopub.status.idle": "2021-09-28T11:22:21.345515Z",
     "shell.execute_reply": "2021-09-28T11:22:21.345945Z",
     "shell.execute_reply.started": "2021-09-28T11:14:47.780137Z"
    },
    "papermill": {
     "duration": 0.041187,
     "end_time": "2021-09-28T11:22:21.346097",
     "exception": false,
     "start_time": "2021-09-28T11:22:21.304910",
     "status": "completed"
    },
    "tags": []
   },
   "outputs": [
    {
     "name": "stdout",
     "output_type": "stream",
     "text": [
      "<class 'pandas.core.frame.DataFrame'>\n"
     ]
    }
   ],
   "source": [
    "print(type(X_test))"
   ]
  },
  {
   "cell_type": "code",
   "execution_count": 32,
   "id": "0a26b864",
   "metadata": {
    "execution": {
     "iopub.execute_input": "2021-09-28T11:22:21.419148Z",
     "iopub.status.busy": "2021-09-28T11:22:21.418278Z",
     "iopub.status.idle": "2021-09-28T11:22:21.422230Z",
     "shell.execute_reply": "2021-09-28T11:22:21.421792Z",
     "shell.execute_reply.started": "2021-09-28T11:18:00.042288Z"
    },
    "papermill": {
     "duration": 0.043112,
     "end_time": "2021-09-28T11:22:21.422359",
     "exception": false,
     "start_time": "2021-09-28T11:22:21.379247",
     "status": "completed"
    },
    "tags": []
   },
   "outputs": [
    {
     "data": {
      "text/plain": [
       "0       20.00000\n",
       "1       20.00000\n",
       "2       20.00000\n",
       "3       20.00000\n",
       "4       20.00000\n",
       "          ...   \n",
       "3955    20.00384\n",
       "3956    20.00384\n",
       "3957    20.00384\n",
       "3958    20.00384\n",
       "3959    20.00384\n",
       "Name: value, Length: 3960, dtype: float64"
      ]
     },
     "execution_count": 32,
     "metadata": {},
     "output_type": "execute_result"
    }
   ],
   "source": [
    "X_test['value']"
   ]
  },
  {
   "cell_type": "code",
   "execution_count": 33,
   "id": "c9518d86",
   "metadata": {
    "execution": {
     "iopub.execute_input": "2021-09-28T11:22:21.494630Z",
     "iopub.status.busy": "2021-09-28T11:22:21.494026Z",
     "iopub.status.idle": "2021-09-28T11:22:32.012782Z",
     "shell.execute_reply": "2021-09-28T11:22:32.013489Z",
     "shell.execute_reply.started": "2021-09-28T11:18:43.428362Z"
    },
    "papermill": {
     "duration": 10.557689,
     "end_time": "2021-09-28T11:22:32.013721",
     "exception": false,
     "start_time": "2021-09-28T11:22:21.456032",
     "status": "completed"
    },
    "tags": []
   },
   "outputs": [
    {
     "name": "stdout",
     "output_type": "stream",
     "text": [
      "[11:22:21] WARNING: ../src/learner.cc:1095: Starting in XGBoost 1.3.0, the default evaluation metric used with the objective 'multi:softprob' was changed from 'merror' to 'mlogloss'. Explicitly set eval_metric if you'd like to restore the old behavior.\n"
     ]
    },
    {
     "name": "stderr",
     "output_type": "stream",
     "text": [
      "/opt/conda/lib/python3.7/site-packages/xgboost/sklearn.py:1146: UserWarning: The use of label encoder in XGBClassifier is deprecated and will be removed in a future release. To remove this warning, do the following: 1) Pass option use_label_encoder=False when constructing XGBClassifier object; and 2) Encode your labels (y) as integers starting with 0, i.e. 0, 1, 2, ..., [num_class - 1].\n",
      "  warnings.warn(label_encoder_deprecation_msg, UserWarning)\n"
     ]
    },
    {
     "data": {
      "text/plain": [
       "XGBClassifier(base_score=0.5, booster='gbtree', colsample_bylevel=1,\n",
       "              colsample_bynode=1, colsample_bytree=1, eta=0.7, gamma=0,\n",
       "              gpu_id=-1, importance_type='gain', interaction_constraints='',\n",
       "              learning_rate=1, max_delta_step=0, max_depth=3,\n",
       "              min_child_weight=1, missing=nan, monotone_constraints='()',\n",
       "              n_estimators=1300, n_jobs=4, num_class=3, num_parallel_tree=1,\n",
       "              objective='multi:softprob', random_state=0, reg_alpha=0,\n",
       "              reg_lambda=1, scale_pos_weight=None, subsample=1,\n",
       "              tree_method='exact', validate_parameters=1, verbosity=None)"
      ]
     },
     "execution_count": 33,
     "metadata": {},
     "output_type": "execute_result"
    }
   ],
   "source": [
    "clf = XGBClassifier(learning_rate=1, n_estimators=1300,eta = 0.7, max_depth= 3,  objective= 'multi:softprob',  num_class= 3)\n",
    "clf.fit(X_train,y_train)"
   ]
  },
  {
   "cell_type": "code",
   "execution_count": 34,
   "id": "ae6f54eb",
   "metadata": {
    "execution": {
     "iopub.execute_input": "2021-09-28T11:22:32.095335Z",
     "iopub.status.busy": "2021-09-28T11:22:32.094276Z",
     "iopub.status.idle": "2021-09-28T11:22:32.182697Z",
     "shell.execute_reply": "2021-09-28T11:22:32.182167Z",
     "shell.execute_reply.started": "2021-09-28T11:19:30.722274Z"
    },
    "papermill": {
     "duration": 0.1277,
     "end_time": "2021-09-28T11:22:32.182839",
     "exception": false,
     "start_time": "2021-09-28T11:22:32.055139",
     "status": "completed"
    },
    "tags": []
   },
   "outputs": [],
   "source": [
    "y_test_pred = clf.predict(X_test)"
   ]
  },
  {
   "cell_type": "code",
   "execution_count": 35,
   "id": "1d3d7f06",
   "metadata": {
    "execution": {
     "iopub.execute_input": "2021-09-28T11:22:32.255740Z",
     "iopub.status.busy": "2021-09-28T11:22:32.254814Z",
     "iopub.status.idle": "2021-09-28T11:22:32.261208Z",
     "shell.execute_reply": "2021-09-28T11:22:32.261712Z",
     "shell.execute_reply.started": "2021-09-28T11:20:25.173601Z"
    },
    "papermill": {
     "duration": 0.044381,
     "end_time": "2021-09-28T11:22:32.261879",
     "exception": false,
     "start_time": "2021-09-28T11:22:32.217498",
     "status": "completed"
    },
    "tags": []
   },
   "outputs": [],
   "source": [
    "data={\"timestamp\":[],\"is_anomaly\":[]}\n",
    "for id,pred in zip(df_test[\"timestamp\"].unique(),y_test_pred):\n",
    "  data[\"timestamp\"].append(id)\n",
    "  data[\"is_anomaly\"].append(pred)"
   ]
  },
  {
   "cell_type": "code",
   "execution_count": 36,
   "id": "00bf810f",
   "metadata": {
    "execution": {
     "iopub.execute_input": "2021-09-28T11:22:32.336237Z",
     "iopub.status.busy": "2021-09-28T11:22:32.335374Z",
     "iopub.status.idle": "2021-09-28T11:22:32.348973Z",
     "shell.execute_reply": "2021-09-28T11:22:32.349444Z",
     "shell.execute_reply.started": "2021-09-28T11:20:39.039736Z"
    },
    "papermill": {
     "duration": 0.051425,
     "end_time": "2021-09-28T11:22:32.349618",
     "exception": false,
     "start_time": "2021-09-28T11:22:32.298193",
     "status": "completed"
    },
    "tags": []
   },
   "outputs": [
    {
     "data": {
      "text/html": [
       "<div>\n",
       "<style scoped>\n",
       "    .dataframe tbody tr th:only-of-type {\n",
       "        vertical-align: middle;\n",
       "    }\n",
       "\n",
       "    .dataframe tbody tr th {\n",
       "        vertical-align: top;\n",
       "    }\n",
       "\n",
       "    .dataframe thead th {\n",
       "        text-align: right;\n",
       "    }\n",
       "</style>\n",
       "<table border=\"1\" class=\"dataframe\">\n",
       "  <thead>\n",
       "    <tr style=\"text-align: right;\">\n",
       "      <th></th>\n",
       "      <th>timestamp</th>\n",
       "      <th>is_anomaly</th>\n",
       "    </tr>\n",
       "  </thead>\n",
       "  <tbody>\n",
       "    <tr>\n",
       "      <th>0</th>\n",
       "      <td>1396332000</td>\n",
       "      <td>0</td>\n",
       "    </tr>\n",
       "    <tr>\n",
       "      <th>1</th>\n",
       "      <td>1396332300</td>\n",
       "      <td>0</td>\n",
       "    </tr>\n",
       "    <tr>\n",
       "      <th>2</th>\n",
       "      <td>1396332600</td>\n",
       "      <td>0</td>\n",
       "    </tr>\n",
       "    <tr>\n",
       "      <th>3</th>\n",
       "      <td>1396332900</td>\n",
       "      <td>0</td>\n",
       "    </tr>\n",
       "    <tr>\n",
       "      <th>4</th>\n",
       "      <td>1396333200</td>\n",
       "      <td>0</td>\n",
       "    </tr>\n",
       "    <tr>\n",
       "      <th>...</th>\n",
       "      <td>...</td>\n",
       "      <td>...</td>\n",
       "    </tr>\n",
       "    <tr>\n",
       "      <th>3955</th>\n",
       "      <td>1397518500</td>\n",
       "      <td>0</td>\n",
       "    </tr>\n",
       "    <tr>\n",
       "      <th>3956</th>\n",
       "      <td>1397518800</td>\n",
       "      <td>0</td>\n",
       "    </tr>\n",
       "    <tr>\n",
       "      <th>3957</th>\n",
       "      <td>1397519100</td>\n",
       "      <td>0</td>\n",
       "    </tr>\n",
       "    <tr>\n",
       "      <th>3958</th>\n",
       "      <td>1397519400</td>\n",
       "      <td>0</td>\n",
       "    </tr>\n",
       "    <tr>\n",
       "      <th>3959</th>\n",
       "      <td>1397519700</td>\n",
       "      <td>0</td>\n",
       "    </tr>\n",
       "  </tbody>\n",
       "</table>\n",
       "<p>3960 rows × 2 columns</p>\n",
       "</div>"
      ],
      "text/plain": [
       "       timestamp  is_anomaly\n",
       "0     1396332000           0\n",
       "1     1396332300           0\n",
       "2     1396332600           0\n",
       "3     1396332900           0\n",
       "4     1396333200           0\n",
       "...          ...         ...\n",
       "3955  1397518500           0\n",
       "3956  1397518800           0\n",
       "3957  1397519100           0\n",
       "3958  1397519400           0\n",
       "3959  1397519700           0\n",
       "\n",
       "[3960 rows x 2 columns]"
      ]
     },
     "execution_count": 36,
     "metadata": {},
     "output_type": "execute_result"
    }
   ],
   "source": [
    "output=pd.DataFrame(data,columns=[\"timestamp\",\"is_anomaly\"])\n",
    "output"
   ]
  },
  {
   "cell_type": "code",
   "execution_count": 37,
   "id": "608f2c3e",
   "metadata": {
    "execution": {
     "iopub.execute_input": "2021-09-28T11:22:32.422623Z",
     "iopub.status.busy": "2021-09-28T11:22:32.421766Z",
     "iopub.status.idle": "2021-09-28T11:22:32.436525Z",
     "shell.execute_reply": "2021-09-28T11:22:32.437067Z",
     "shell.execute_reply.started": "2021-09-28T11:20:42.088288Z"
    },
    "papermill": {
     "duration": 0.052659,
     "end_time": "2021-09-28T11:22:32.437224",
     "exception": false,
     "start_time": "2021-09-28T11:22:32.384565",
     "status": "completed"
    },
    "tags": []
   },
   "outputs": [
    {
     "name": "stdout",
     "output_type": "stream",
     "text": [
      "Your submission was successfully saved!\n"
     ]
    },
    {
     "data": {
      "text/plain": [
       "0    3941\n",
       "1      19\n",
       "Name: is_anomaly, dtype: int64"
      ]
     },
     "execution_count": 37,
     "metadata": {},
     "output_type": "execute_result"
    }
   ],
   "source": [
    "output.to_csv('submission.csv', index=False)\n",
    "print(\"Your submission was successfully saved!\")\n",
    "output['is_anomaly'].value_counts()"
   ]
  }
 ],
 "metadata": {
  "kernelspec": {
   "display_name": "Python 3",
   "language": "python",
   "name": "python3"
  },
  "language_info": {
   "codemirror_mode": {
    "name": "ipython",
    "version": 3
   },
   "file_extension": ".py",
   "mimetype": "text/x-python",
   "name": "python",
   "nbconvert_exporter": "python",
   "pygments_lexer": "ipython3",
   "version": "3.7.10"
  },
  "papermill": {
   "default_parameters": {},
   "duration": 82.813701,
   "end_time": "2021-09-28T11:22:33.807571",
   "environment_variables": {},
   "exception": null,
   "input_path": "__notebook__.ipynb",
   "output_path": "__notebook__.ipynb",
   "parameters": {},
   "start_time": "2021-09-28T11:21:10.993870",
   "version": "2.3.3"
  }
 },
 "nbformat": 4,
 "nbformat_minor": 5
}
